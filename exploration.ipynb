{
 "cells": [
  {
   "cell_type": "code",
   "execution_count": 1,
   "metadata": {},
   "outputs": [
    {
     "data": {
      "application/vnd.jupyter.widget-view+json": {
       "model_id": "82a034e309f940bc8d558c9861063d83",
       "version_major": 2,
       "version_minor": 0
      },
      "text/plain": [
       "HBox(children=(FloatProgress(value=1.0, bar_style='info', layout=Layout(width='20px'), max=1.0), HTML(value=''…"
      ]
     },
     "metadata": {},
     "output_type": "display_data"
    },
    {
     "name": "stdout",
     "output_type": "stream",
     "text": [
      "\n"
     ]
    },
    {
     "data": {
      "application/vnd.jupyter.widget-view+json": {
       "model_id": "11659b9ffc4542e2b6c35f91c02dd3df",
       "version_major": 2,
       "version_minor": 0
      },
      "text/plain": [
       "HBox(children=(FloatProgress(value=1.0, bar_style='info', layout=Layout(width='20px'), max=1.0), HTML(value=''…"
      ]
     },
     "metadata": {},
     "output_type": "display_data"
    },
    {
     "name": "stdout",
     "output_type": "stream",
     "text": [
      "\n"
     ]
    }
   ],
   "source": [
    "from tqdm.auto import tqdm\n",
    "\n",
    "def read_mgb(split_file):\n",
    "    r_text = []\n",
    "    r_labels = []\n",
    "    with open(split_file, 'r') as f:\n",
    "        for line in tqdm(f):\n",
    "            tokens = [t.lower() for t in line.split()[1:]]\n",
    "            text = [t for t in tokens if '<' not in t]\n",
    "            labels = [\"<none>\"]*len(text)\n",
    "            i_off = 0\n",
    "            for i, token in enumerate(tokens):\n",
    "                if '<' in token:\n",
    "                    labels[i-1-i_off] = token\n",
    "                    i_off += 1\n",
    "            r_text.append(text)\n",
    "            r_labels.append(labels)\n",
    "            \n",
    "\n",
    "    return r_text, r_labels\n",
    "\n",
    "train_texts, train_labels = read_mgb('train.txt')\n",
    "test_texts, test_labels = read_mgb('dev.txt')"
   ]
  },
  {
   "cell_type": "code",
   "execution_count": 14,
   "metadata": {},
   "outputs": [
    {
     "data": {
      "text/plain": [
       "[('indeed', '<comma>'),\n",
       " ('its', '<none>'),\n",
       " ('the', '<none>'),\n",
       " ('moment', '<none>'),\n",
       " (\"they've\", '<none>'),\n",
       " ('been', '<none>'),\n",
       " ('waiting', '<none>'),\n",
       " ('for', '<full_stop>')]"
      ]
     },
     "execution_count": 14,
     "metadata": {},
     "output_type": "execute_result"
    }
   ],
   "source": [
    "import random\n",
    "rand_index = random.randint(0, len(train_texts)-1)\n",
    "list(zip(train_texts[rand_index], train_labels[rand_index]))"
   ]
  },
  {
   "cell_type": "code",
   "execution_count": 9,
   "metadata": {},
   "outputs": [
    {
     "data": {
      "text/plain": [
       "47101"
      ]
     },
     "execution_count": 9,
     "metadata": {},
     "output_type": "execute_result"
    }
   ],
   "source": []
  },
  {
   "cell_type": "code",
   "execution_count": null,
   "metadata": {},
   "outputs": [],
   "source": []
  }
 ],
 "metadata": {
  "kernelspec": {
   "display_name": "Python 3",
   "language": "python",
   "name": "python3"
  },
  "language_info": {
   "codemirror_mode": {
    "name": "ipython",
    "version": 3
   },
   "file_extension": ".py",
   "mimetype": "text/x-python",
   "name": "python",
   "nbconvert_exporter": "python",
   "pygments_lexer": "ipython3",
   "version": "3.7.6"
  }
 },
 "nbformat": 4,
 "nbformat_minor": 4
}
