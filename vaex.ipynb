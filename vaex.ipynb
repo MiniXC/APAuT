{
 "cells": [
  {
   "cell_type": "code",
   "execution_count": 1,
   "metadata": {},
   "outputs": [],
   "source": [
    "import vaex\n",
    "import unidecode\n",
    "from tqdm.auto import tqdm"
   ]
  },
  {
   "cell_type": "code",
   "execution_count": 2,
   "metadata": {},
   "outputs": [
    {
     "data": {
      "text/plain": [
       "\"\\nwith open('os-final.txt', 'w') as f:\\n    for line in tqdm(open('os.txt', 'r')):\\n        if len(line) > 1 and line[0] != '<':\\n            f.write(unidecode.unidecode(line))\\n\""
      ]
     },
     "execution_count": 2,
     "metadata": {},
     "output_type": "execute_result"
    }
   ],
   "source": [
    "\"\"\"\n",
    "with open('os-final.txt', 'w') as f:\n",
    "    for line in tqdm(open('os.txt', 'r')):\n",
    "        if len(line) > 1 and line[0] != '<':\n",
    "            f.write(unidecode.unidecode(line))\n",
    "\"\"\""
   ]
  },
  {
   "cell_type": "code",
   "execution_count": 19,
   "metadata": {},
   "outputs": [
    {
     "data": {
      "text/plain": [
       "pyarrow.Table\n",
       "Text: string"
      ]
     },
     "execution_count": 19,
     "metadata": {},
     "output_type": "execute_result"
    }
   ],
   "source": [
    "import pyarrow.csv\n",
    "from pyarrow.csv import ParseOptions, ReadOptions\n",
    "import pyarrow.parquet as pq\n",
    "arrow_table = pyarrow.csv.read_csv('lm.txt', read_options=ReadOptions(column_names=['Text']), parse_options=ParseOptions(delimiter='|', quote_char=False, ignore_empty_lines=True))\n",
    "arrow_table"
   ]
  },
  {
   "cell_type": "code",
   "execution_count": 20,
   "metadata": {},
   "outputs": [],
   "source": [
    "#pq.write_table(arrow_table, 'os.parquet')"
   ]
  },
  {
   "cell_type": "code",
   "execution_count": 3,
   "metadata": {},
   "outputs": [
    {
     "data": {
      "text/html": [
       "<table>\n",
       "<thead>\n",
       "<tr><th>#                                     </th><th>PRESENTED BY IM PICTURES                           </th></tr>\n",
       "</thead>\n",
       "<tbody>\n",
       "<tr><td><i style='opacity: 0.6'>0</i>         </td><td>PRODUCED BY SHIN CINE                              </td></tr>\n",
       "<tr><td><i style='opacity: 0.6'>1</i>         </td><td>&#x27;IN ASSOCIATION WITH MVP VENTURE CAPITAL AND CIN...</td></tr>\n",
       "<tr><td><i style='opacity: 0.6'>2</i>         </td><td>MY SASSY GIRL                                      </td></tr>\n",
       "<tr><td><i style='opacity: 0.6'>3</i>         </td><td>&#x27;EXACTLY TWO YEARS AGO TODAY &lt;COMMA&gt; SHE AND I B...</td></tr>\n",
       "<tr><td><i style='opacity: 0.6'>4</i>         </td><td>&#x27;WE PROMISED TO MEET HERE TWO YEARS LATER &lt;COMMA...</td></tr>\n",
       "<tr><td>...                                   </td><td>...                                                </td></tr>\n",
       "<tr><td><i style='opacity: 0.6'>79,986,471</i></td><td>&#x27;HELP ME &lt;COMMA&gt; PLEASE &lt;COMMA&gt; PLEASE &lt;COMMA&gt; P...</td></tr>\n",
       "<tr><td><i style='opacity: 0.6'>79,986,472</i></td><td>THE COMMUTER SHIP IS HERE &lt;FULL_STOP&gt;              </td></tr>\n",
       "<tr><td><i style='opacity: 0.6'>79,986,473</i></td><td>&#x27;CONTACT CORA AT ONCE &lt;COMMA&gt; TELL HER TO PREPAR...</td></tr>\n",
       "<tr><td><i style='opacity: 0.6'>79,986,474</i></td><td>SIGNAL GREEN ALERT IMMEDIATELY &lt;FULL_STOP&gt;         </td></tr>\n",
       "<tr><td><i style='opacity: 0.6'>79,986,475</i></td><td>&quot;OH &lt;COMMA&gt; I&#x27;VE NEVER BEEN SO GLAD TO SEE ANYBO...</td></tr>\n",
       "</tbody>\n",
       "</table>"
      ],
      "text/plain": [
       "#           PRESENTED BY IM PICTURES\n",
       "0           PRODUCED BY SHIN CINE\n",
       "1           'IN ASSOCIATION WITH MVP VENTURE CAPITAL AND CIN...\n",
       "2           MY SASSY GIRL\n",
       "3           'EXACTLY TWO YEARS AGO TODAY <COMMA> SHE AND I B...\n",
       "4           'WE PROMISED TO MEET HERE TWO YEARS LATER <COMMA...\n",
       "...         ...\n",
       "79,986,471  'HELP ME <COMMA> PLEASE <COMMA> PLEASE <COMMA> P...\n",
       "79,986,472  THE COMMUTER SHIP IS HERE <FULL_STOP>\n",
       "79,986,473  'CONTACT CORA AT ONCE <COMMA> TELL HER TO PREPAR...\n",
       "79,986,474  SIGNAL GREEN ALERT IMMEDIATELY <FULL_STOP>\n",
       "79,986,475  \"OH <COMMA> I'VE NEVER BEEN SO GLAD TO SEE ANYBO..."
      ]
     },
     "execution_count": 3,
     "metadata": {},
     "output_type": "execute_result"
    }
   ],
   "source": [
    "vaex.from_csv('os-final.txt', convert=True, chunk_size=5_000_000, sep='|')"
   ]
  },
  {
   "cell_type": "code",
   "execution_count": 4,
   "metadata": {},
   "outputs": [],
   "source": [
    "os_df = vaex.open('os-final.txt.hdf5')"
   ]
  },
  {
   "cell_type": "code",
   "execution_count": 5,
   "metadata": {},
   "outputs": [
    {
     "data": {
      "text/html": [
       "<table>\n",
       "<thead>\n",
       "<tr><th>#                                     </th><th>PRESENTED BY IM PICTURES                           </th></tr>\n",
       "</thead>\n",
       "<tbody>\n",
       "<tr><td><i style='opacity: 0.6'>0</i>         </td><td>PRODUCED BY SHIN CINE                              </td></tr>\n",
       "<tr><td><i style='opacity: 0.6'>1</i>         </td><td>&#x27;IN ASSOCIATION WITH MVP VENTURE CAPITAL AND CIN...</td></tr>\n",
       "<tr><td><i style='opacity: 0.6'>2</i>         </td><td>MY SASSY GIRL                                      </td></tr>\n",
       "<tr><td><i style='opacity: 0.6'>3</i>         </td><td>&#x27;EXACTLY TWO YEARS AGO TODAY &lt;COMMA&gt; SHE AND I B...</td></tr>\n",
       "<tr><td><i style='opacity: 0.6'>4</i>         </td><td>&#x27;WE PROMISED TO MEET HERE TWO YEARS LATER &lt;COMMA...</td></tr>\n",
       "<tr><td>...                                   </td><td>...                                                </td></tr>\n",
       "<tr><td><i style='opacity: 0.6'>79,986,471</i></td><td>&#x27;HELP ME &lt;COMMA&gt; PLEASE &lt;COMMA&gt; PLEASE &lt;COMMA&gt; P...</td></tr>\n",
       "<tr><td><i style='opacity: 0.6'>79,986,472</i></td><td>THE COMMUTER SHIP IS HERE &lt;FULL_STOP&gt;              </td></tr>\n",
       "<tr><td><i style='opacity: 0.6'>79,986,473</i></td><td>&#x27;CONTACT CORA AT ONCE &lt;COMMA&gt; TELL HER TO PREPAR...</td></tr>\n",
       "<tr><td><i style='opacity: 0.6'>79,986,474</i></td><td>SIGNAL GREEN ALERT IMMEDIATELY &lt;FULL_STOP&gt;         </td></tr>\n",
       "<tr><td><i style='opacity: 0.6'>79,986,475</i></td><td>&quot;OH &lt;COMMA&gt; I&#x27;VE NEVER BEEN SO GLAD TO SEE ANYBO...</td></tr>\n",
       "</tbody>\n",
       "</table>"
      ],
      "text/plain": [
       "#           PRESENTED BY IM PICTURES\n",
       "0           PRODUCED BY SHIN CINE\n",
       "1           'IN ASSOCIATION WITH MVP VENTURE CAPITAL AND CIN...\n",
       "2           MY SASSY GIRL\n",
       "3           'EXACTLY TWO YEARS AGO TODAY <COMMA> SHE AND I B...\n",
       "4           'WE PROMISED TO MEET HERE TWO YEARS LATER <COMMA...\n",
       "...         ...\n",
       "79,986,471  'HELP ME <COMMA> PLEASE <COMMA> PLEASE <COMMA> P...\n",
       "79,986,472  THE COMMUTER SHIP IS HERE <FULL_STOP>\n",
       "79,986,473  'CONTACT CORA AT ONCE <COMMA> TELL HER TO PREPAR...\n",
       "79,986,474  SIGNAL GREEN ALERT IMMEDIATELY <FULL_STOP>\n",
       "79,986,475  \"OH <COMMA> I'VE NEVER BEEN SO GLAD TO SEE ANYBO..."
      ]
     },
     "execution_count": 5,
     "metadata": {},
     "output_type": "execute_result"
    }
   ],
   "source": [
    "os_df[os_df['PRES']]"
   ]
  },
  {
   "cell_type": "code",
   "execution_count": null,
   "metadata": {},
   "outputs": [],
   "source": []
  }
 ],
 "metadata": {
  "kernelspec": {
   "display_name": "Python 3",
   "language": "python",
   "name": "python3"
  },
  "language_info": {
   "codemirror_mode": {
    "name": "ipython",
    "version": 3
   },
   "file_extension": ".py",
   "mimetype": "text/x-python",
   "name": "python",
   "nbconvert_exporter": "python",
   "pygments_lexer": "ipython3",
   "version": "3.7.8"
  }
 },
 "nbformat": 4,
 "nbformat_minor": 4
}
