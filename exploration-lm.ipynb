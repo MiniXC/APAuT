{
 "cells": [
  {
   "cell_type": "code",
   "execution_count": 11,
   "metadata": {},
   "outputs": [],
   "source": [
    "from tqdm.auto import tqdm\n",
    "import numpy as np\n",
    "\n",
    "flatten = lambda l: [item for sublist in l for item in sublist]\n",
    "\n",
    "def read_mgb(split_file, start_index=1, max_lines=float('inf'), max_words=float('inf')):\n",
    "    r_text = []\n",
    "    r_labels = []\n",
    "    with open(split_file, \"r\") as f:\n",
    "        for i, line in tqdm(enumerate(f)):\n",
    "            if i >= max_lines:\n",
    "                break\n",
    "            tokens = [t.lower() for t in line.split()[start_index:]]\n",
    "            if len(tokens) > max_words:\n",
    "                max_lines += 1\n",
    "                continue\n",
    "            text = [t for t in tokens if \"<\" not in t]\n",
    "            labels = [\"<none>\"] * len(text)\n",
    "            i_off = 0\n",
    "            for i, token in enumerate(tokens):\n",
    "                if \"<\" in token:\n",
    "                    labels[i - 1 - i_off] = token\n",
    "                    i_off += 1\n",
    "            r_text.append(text)\n",
    "            r_labels.append(labels)\n",
    "\n",
    "    return r_text, r_labels"
   ]
  },
  {
   "cell_type": "code",
   "execution_count": 5,
   "metadata": {},
   "outputs": [
    {
     "data": {
      "application/vnd.jupyter.widget-view+json": {
       "model_id": "361c0e14f9f242839a631e17ad678c44",
       "version_major": 2,
       "version_minor": 0
      },
      "text/plain": [
       "HBox(children=(HTML(value=''), FloatProgress(value=1.0, bar_style='info', layout=Layout(width='20px'), max=1.0…"
      ]
     },
     "metadata": {},
     "output_type": "display_data"
    },
    {
     "name": "stdout",
     "output_type": "stream",
     "text": [
      "\n"
     ]
    },
    {
     "data": {
      "application/vnd.jupyter.widget-view+json": {
       "model_id": "5a3e72f3bb2243eca07a7d534ecade6a",
       "version_major": 2,
       "version_minor": 0
      },
      "text/plain": [
       "HBox(children=(HTML(value=''), FloatProgress(value=1.0, bar_style='info', layout=Layout(width='20px'), max=1.0…"
      ]
     },
     "metadata": {},
     "output_type": "display_data"
    },
    {
     "name": "stdout",
     "output_type": "stream",
     "text": [
      "\n"
     ]
    },
    {
     "data": {
      "application/vnd.jupyter.widget-view+json": {
       "model_id": "2efe79b64dd642949d2fa82ba8326252",
       "version_major": 2,
       "version_minor": 0
      },
      "text/plain": [
       "HBox(children=(HTML(value=''), FloatProgress(value=1.0, bar_style='info', layout=Layout(width='20px'), max=1.0…"
      ]
     },
     "metadata": {},
     "output_type": "display_data"
    },
    {
     "name": "stdout",
     "output_type": "stream",
     "text": [
      "\n"
     ]
    }
   ],
   "source": [
    "train_texts, train_labels = read_mgb('train.txt')\n",
    "test_texts, test_labels = read_mgb('dev.txt')\n",
    "lm_texts, lm_labels = read_mgb('lm.txt', start_index=0, max_lines=1_000_000, max_words=256)"
   ]
  },
  {
   "cell_type": "code",
   "execution_count": 6,
   "metadata": {},
   "outputs": [],
   "source": [
    "import matplotlib.pyplot as plt\n",
    "import seaborn as sns\n",
    "sns.set()"
   ]
  },
  {
   "cell_type": "code",
   "execution_count": 7,
   "metadata": {},
   "outputs": [],
   "source": [
    "train_lens = [len(line) for line in train_texts]\n",
    "test_lens = [len(line) for line in test_texts]\n",
    "lm_lens = [len(line) for line in lm_texts]"
   ]
  },
  {
   "cell_type": "code",
   "execution_count": 75,
   "metadata": {},
   "outputs": [
    {
     "data": {
      "application/vnd.jupyter.widget-view+json": {
       "model_id": "570d6c88d7434021ab2fc0605bb769af",
       "version_major": 2,
       "version_minor": 0
      },
      "text/plain": [
       "HBox(children=(HTML(value='reading from file'), FloatProgress(value=1.0, bar_style='info', layout=Layout(width…"
      ]
     },
     "metadata": {},
     "output_type": "display_data"
    },
    {
     "name": "stdout",
     "output_type": "stream",
     "text": [
      "\n"
     ]
    },
    {
     "data": {
      "application/vnd.jupyter.widget-view+json": {
       "model_id": "8d8950f0b49f45539376bac42b67a6d2",
       "version_major": 2,
       "version_minor": 0
      },
      "text/plain": [
       "HBox(children=(HTML(value='converting to numpy array'), FloatProgress(value=0.0, max=5000001.0), HTML(value=''…"
      ]
     },
     "metadata": {},
     "output_type": "display_data"
    },
    {
     "name": "stdout",
     "output_type": "stream",
     "text": [
      "\n"
     ]
    }
   ],
   "source": [
    "from opensubtitles_dataloader import OpenSubtitlesDataset\n",
    "import re\n",
    "legal = re.compile(\"^[\\w,.'!?\\s]*$\")\n",
    "opensubtites_dataset = OpenSubtitlesDataset('en', 1, first_n_lines=5_000_000, overwrite=True)\n",
    "os_texts = [sent for sent in opensubtites_dataset]"
   ]
  },
  {
   "cell_type": "code",
   "execution_count": 76,
   "metadata": {},
   "outputs": [
    {
     "data": {
      "text/plain": [
       "(5000000, 1505666)"
      ]
     },
     "execution_count": 76,
     "metadata": {},
     "output_type": "execute_result"
    }
   ],
   "source": [
    "len(os_texts), len(set(os_texts))"
   ]
  },
  {
   "cell_type": "code",
   "execution_count": 77,
   "metadata": {},
   "outputs": [],
   "source": [
    "os_texts = set(os_texts)"
   ]
  },
  {
   "cell_type": "code",
   "execution_count": 80,
   "metadata": {},
   "outputs": [
    {
     "data": {
      "application/vnd.jupyter.widget-view+json": {
       "model_id": "97e84443db6e496ba7323abf50d0808d",
       "version_major": 2,
       "version_minor": 0
      },
      "text/plain": [
       "HBox(children=(HTML(value=''), FloatProgress(value=0.0, max=1505666.0), HTML(value='')))"
      ]
     },
     "metadata": {},
     "output_type": "display_data"
    },
    {
     "name": "stdout",
     "output_type": "stream",
     "text": [
      "\n"
     ]
    }
   ],
   "source": [
    "os_texts_new = set()\n",
    "for txt in tqdm(os_texts, total=len(os_texts)):\n",
    "    if legal.match(txt):\n",
    "        os_texts_new.add(txt)"
   ]
  },
  {
   "cell_type": "code",
   "execution_count": 88,
   "metadata": {},
   "outputs": [],
   "source": [
    "os_lens = [len(line.split()) for line in os_texts_new]"
   ]
  },
  {
   "cell_type": "code",
   "execution_count": 89,
   "metadata": {},
   "outputs": [
    {
     "name": "stderr",
     "output_type": "stream",
     "text": [
      "/home/cdminix/anaconda3/envs/apaut/lib/python3.7/site-packages/seaborn/distributions.py:2551: FutureWarning: `distplot` is a deprecated function and will be removed in a future version. Please adapt your code to use either `displot` (a figure-level function with similar flexibility) or `histplot` (an axes-level function for histograms).\n",
      "  warnings.warn(msg, FutureWarning)\n"
     ]
    },
    {
     "data": {
      "text/plain": [
       "<AxesSubplot:>"
      ]
     },
     "execution_count": 89,
     "metadata": {},
     "output_type": "execute_result"
    },
    {
     "data": {
      "image/png": "[encoded data removed]",
      "text/plain": [
       "<Figure size 1440x1080 with 1 Axes>"
      ]
     },
     "metadata": {
      "needs_background": "light"
     },
     "output_type": "display_data"
    }
   ],
   "source": [
    "plt.figure(figsize=(20,15))\n",
    "#\n",
    "sns.distplot(test_lens, bins=20, kde = False, norm_hist=True)\n",
    "sns.distplot(os_lens, bins=20, kde = False, norm_hist=True)\n",
    "sns.distplot(lm_lens, bins=20, kde = False, norm_hist=True)\n",
    "sns.distplot(train_lens, bins=20, kde = False, norm_hist=True)"
   ]
  },
  {
   "cell_type": "code",
   "execution_count": 81,
   "metadata": {},
   "outputs": [
    {
     "data": {
      "text/plain": [
       "1158340"
      ]
     },
     "execution_count": 81,
     "metadata": {},
     "output_type": "execute_result"
    }
   ],
   "source": [
    "len(os_texts_new)"
   ]
  },
  {
   "cell_type": "code",
   "execution_count": 82,
   "metadata": {},
   "outputs": [
    {
     "data": {
      "text/plain": [
       "0.037831724709498075"
      ]
     },
     "execution_count": 82,
     "metadata": {},
     "output_type": "execute_result"
    }
   ],
   "source": [
    "len([txt for txt in os_texts_new if ('?' not in txt and '.' not in txt and '!' not in txt and ',' not in txt)])/len(os_texts_new)"
   ]
  },
  {
   "cell_type": "code",
   "execution_count": 83,
   "metadata": {},
   "outputs": [
    {
     "data": {
      "text/plain": [
       "0.1306919461999676"
      ]
     },
     "execution_count": 83,
     "metadata": {},
     "output_type": "execute_result"
    }
   ],
   "source": [
    "len([l for l in test_labels if ('<none>' in l and len(set(l)) == 1)])/len(test_labels)"
   ]
  },
  {
   "cell_type": "code",
   "execution_count": 84,
   "metadata": {},
   "outputs": [
    {
     "data": {
      "text/plain": [
       "0.028780968815481325"
      ]
     },
     "execution_count": 84,
     "metadata": {},
     "output_type": "execute_result"
    }
   ],
   "source": [
    "len([l for l in train_labels if ('<none>' in l and len(set(l)) == 1)])/len(train_labels)"
   ]
  },
  {
   "cell_type": "code",
   "execution_count": 85,
   "metadata": {},
   "outputs": [
    {
     "data": {
      "text/plain": [
       "0.000107"
      ]
     },
     "execution_count": 85,
     "metadata": {},
     "output_type": "execute_result"
    }
   ],
   "source": [
    "len([l for l in lm_labels if ('<none>' in l and len(set(l)) == 1)])/len(lm_labels)"
   ]
  },
  {
   "cell_type": "code",
   "execution_count": 87,
   "metadata": {},
   "outputs": [
    {
     "data": {
      "text/plain": [
       "['how many guys is gonna be around?',\n",
       " \"Oh, that's brilliant, bumpkin.\",\n",
       " 'I know all you said is true.',\n",
       " 'Gonna get out on the road tonight',\n",
       " 'The car of my dreams!',\n",
       " 'With Allison, severe shock.',\n",
       " 'Not like that.',\n",
       " 'Then the doctor told me that both my eyes were lazy.',\n",
       " \"Isn't there some sort of a reversing spell?\",\n",
       " \"Didn't you want me to come home?\",\n",
       " 'Left a lot of nice stuff.',\n",
       " \"I'd better get back to the flat.\",\n",
       " \"What I couldn't see was where all that came to an end.\",\n",
       " \"But it's changed my life.\",\n",
       " \"And I'm a better woman for loving you.\",\n",
       " 'For a long time, me and Jordan, we focused, keep strong, Radcliff Enterprises.',\n",
       " 'Luckily, I can furnish an alibi to your whereabouts that evening.',\n",
       " 'Do you know how easy it is for dead people to travel?',\n",
       " 'Clear off that table.',\n",
       " 'Pantucci !',\n",
       " \"Of course, maybe it's time for her to spread her wings and fly.\",\n",
       " 'Although my thoughts and feelings are a mess...',\n",
       " 'Automobiles use routes 7, 23, 24.',\n",
       " 'He has succeeded at what he wants to do and he expects everyone not only to applaud his efforts but to accept his understanding of pellagra that this is a dietary disorder and not a germ disease.',\n",
       " \"I can't take it\",\n",
       " 'Geordi.',\n",
       " \"He won't get far.\",\n",
       " \"I saw Alexis Crowns, Yerakari's teacher.\",\n",
       " 'HE MIGHT NOT WANT TO LIGHT IT.',\n",
       " \"And now, Irishman, if you'll be good enough... to instruct the paymaster to hand me my March wages...\",\n",
       " 'She got her head chopped right off.',\n",
       " 'It scared me.',\n",
       " \"You shouldn't have done that, Zelda.\",\n",
       " 'do you like it?',\n",
       " 'Central security service.',\n",
       " 'In all the animal kingdom, no mother is more devoted than the blue jay.',\n",
       " \"NO, IT'S A CAR.\",\n",
       " 'Her two sons are grown men now.',\n",
       " \"Exactly, but he won't be in the area.\",\n",
       " 'I knew he was a fuckin problem as soon as Knowledge put it down.',\n",
       " \"I don't know why I asked.\",\n",
       " 'Her face took on a horrible expression.',\n",
       " 'I can read it, Charlie.',\n",
       " 'We go out now, ja?',\n",
       " \"Don't you think I felt stupid for being where Charlie Tyner could rape me?\",\n",
       " 'Tastefully.',\n",
       " 'The old darling.',\n",
       " 'But I thought you were gay.',\n",
       " \"They are staying with the governor they won't come back early\",\n",
       " \"It's useless to knock.\",\n",
       " 'You tried.',\n",
       " \"I'm Jimmy Welsh, the ballad singer.\",\n",
       " \"In fact, I didn't bring any money at all\",\n",
       " 'Look, if it were to make him sing, no!',\n",
       " 'When that failed, you told Lieutenant Lamm to try.',\n",
       " \"How much longer do you think it's gonna take for someone to figure out the R.P.M is a fake?\",\n",
       " 'E o falsehood.',\n",
       " \"I'm just skin and bones.\",\n",
       " \"You're lucky you're attached to dog.\",\n",
       " 'Who made that law?',\n",
       " 'Get this man!',\n",
       " \"Now, boy, you won't cure them by staring.\",\n",
       " 'You also made promises, Shirley, one being this place would accept me.',\n",
       " 'Come on, huh?',\n",
       " 'A woman was in that room.',\n",
       " \"We'll set the charges against the piles about three feet underwater, I should think and run the main wire downstream to the plunger.\",\n",
       " 'October 1962.',\n",
       " \"THAT'S A PICTURE OF HER OVER THERE ON THE WALL.\",\n",
       " \"He's not your dog, and I never even touched him.\",\n",
       " \"I'm surprised you did not shut and me.\",\n",
       " \"I didn't plan this thing with Ben.\",\n",
       " 'The seams should be very strong.',\n",
       " 'Goethe?',\n",
       " \"He's ocked into a gender roe.\",\n",
       " \"Everything's a fucking travesty with you.\",\n",
       " 'What about sorry always?',\n",
       " 'But are you the same kid or another?',\n",
       " 'It was risky from the start.',\n",
       " 'Poor, needy and incredibly attractive.',\n",
       " 'This is for your trouble.',\n",
       " \"They are both... they've been walking for days,\",\n",
       " 'bye!',\n",
       " 'Cigarettes, too?',\n",
       " 'I still can.',\n",
       " \"They'll do you just fine.\",\n",
       " 'Helmazaria!',\n",
       " 'HOW ARE YOU, MAN?',\n",
       " \"You'd be doing real work, good or bad, rich or poor, it's up to you.\",\n",
       " \"Trevor, it's more than that.\",\n",
       " 'But I want to talk business with you.',\n",
       " \"It's a portrait of Sophia.\",\n",
       " \"He's got her downstairs in the basement with the other.\",\n",
       " \"I didn't say you could put holes in my boat!\",\n",
       " \"Uh, last year's big commercial.\",\n",
       " 'Not unless your story can be categorised or easily referenced.',\n",
       " 'He stayed for a minute with me, then went away.',\n",
       " \"You'd better get after him quick, now.\",\n",
       " \"There's no need to take her into custody.\",\n",
       " 'Judge coming through!',\n",
       " 'Find them on all witnesses from execution, immediately provides them protection.']"
      ]
     },
     "execution_count": 87,
     "metadata": {},
     "output_type": "execute_result"
    }
   ],
   "source": [
    "list(os_texts_new)[:100]"
   ]
  },
  {
   "cell_type": "code",
   "execution_count": 90,
   "metadata": {},
   "outputs": [
    {
     "data": {
      "application/vnd.jupyter.widget-view+json": {
       "model_id": "acbb2f4ef93e402ab2ffc9b153d34cd4",
       "version_major": 2,
       "version_minor": 0
      },
      "text/plain": [
       "HBox(children=(HTML(value='reading from file'), FloatProgress(value=1.0, bar_style='info', layout=Layout(width…"
      ]
     },
     "metadata": {},
     "output_type": "display_data"
    },
    {
     "name": "stdout",
     "output_type": "stream",
     "text": [
      "\n"
     ]
    },
    {
     "data": {
      "application/vnd.jupyter.widget-view+json": {
       "model_id": "9f715d3a5bba48e3887ab3232fa40ddf",
       "version_major": 2,
       "version_minor": 0
      },
      "text/plain": [
       "HBox(children=(HTML(value='converting to numpy array'), FloatProgress(value=0.0, max=441450450.0), HTML(value=…"
      ]
     },
     "metadata": {},
     "output_type": "display_data"
    },
    {
     "name": "stdout",
     "output_type": "stream",
     "text": [
      "\n"
     ]
    }
   ],
   "source": [
    "opensubtites_dataset = OpenSubtitlesDataset('en', 1, overwrite=True)"
   ]
  },
  {
   "cell_type": "code",
   "execution_count": 91,
   "metadata": {},
   "outputs": [
    {
     "data": {
      "application/vnd.jupyter.widget-view+json": {
       "model_id": "4a983db00ba14cc9bcafdcb9e29a2df0",
       "version_major": 2,
       "version_minor": 0
      },
      "text/plain": [
       "HBox(children=(HTML(value=''), FloatProgress(value=0.0, max=441450449.0), HTML(value='')))"
      ]
     },
     "metadata": {},
     "output_type": "display_data"
    },
    {
     "name": "stdout",
     "output_type": "stream",
     "text": [
      "\n"
     ]
    }
   ],
   "source": [
    "hashes = set()\n",
    "with open('os_clean_1s.txt', 'w') as file:\n",
    "    for sent in tqdm(opensubtites_dataset, total=len(opensubtites_dataset)):\n",
    "        if legal.match(sent):\n",
    "            if hash(sent) not in hashes:\n",
    "                hashes.add(sent)\n",
    "                file.write(sent + '\\n')"
   ]
  },
  {
   "cell_type": "code",
   "execution_count": 92,
   "metadata": {},
   "outputs": [],
   "source": [
    "del hashes"
   ]
  },
  {
   "cell_type": "code",
   "execution_count": 103,
   "metadata": {},
   "outputs": [
    {
     "data": {
      "application/vnd.jupyter.widget-view+json": {
       "model_id": "0c507021235d4137a49d5a6b77fe27f4",
       "version_major": 2,
       "version_minor": 0
      },
      "text/plain": [
       "HBox(children=(HTML(value=''), FloatProgress(value=1.0, bar_style='info', layout=Layout(width='20px'), max=1.0…"
      ]
     },
     "metadata": {},
     "output_type": "display_data"
    },
    {
     "name": "stdout",
     "output_type": "stream",
     "text": [
      "\n"
     ]
    }
   ],
   "source": [
    "hashes = set()\n",
    "with open('os_clean_1s_nodup.txt', 'w') as file:\n",
    "    for line in tqdm(open('os_clean_1s.txt', 'r')):\n",
    "        if hash(line) not in hashes:\n",
    "            hashes.add(hash(line))\n",
    "            file.write(line)"
   ]
  },
  {
   "cell_type": "code",
   "execution_count": 104,
   "metadata": {},
   "outputs": [
    {
     "data": {
      "application/vnd.jupyter.widget-view+json": {
       "model_id": "0698300638cf44dea45be80ed7b37813",
       "version_major": 2,
       "version_minor": 0
      },
      "text/plain": [
       "HBox(children=(HTML(value=''), FloatProgress(value=1.0, bar_style='info', layout=Layout(width='20px'), max=1.0…"
      ]
     },
     "metadata": {},
     "output_type": "display_data"
    },
    {
     "name": "stdout",
     "output_type": "stream",
     "text": [
      "\n"
     ]
    }
   ],
   "source": [
    "for line in tqdm(open('os_clean_1s_nodup.txt', 'r')):\n",
    "    pass"
   ]
  },
  {
   "cell_type": "code",
   "execution_count": 105,
   "metadata": {},
   "outputs": [
    {
     "data": {
      "text/plain": [
       "(441450449, 351394949, 80181378)"
      ]
     },
     "execution_count": 105,
     "metadata": {},
     "output_type": "execute_result"
    }
   ],
   "source": [
    "441450449, 351_394_949, 80_181_378"
   ]
  },
  {
   "cell_type": "code",
   "execution_count": 106,
   "metadata": {},
   "outputs": [
    {
     "data": {
      "application/vnd.jupyter.widget-view+json": {
       "model_id": "f714f1b0c90e4f57a986550497b7ac89",
       "version_major": 2,
       "version_minor": 0
      },
      "text/plain": [
       "HBox(children=(HTML(value=''), FloatProgress(value=1.0, bar_style='info', layout=Layout(width='20px'), max=1.0…"
      ]
     },
     "metadata": {},
     "output_type": "display_data"
    },
    {
     "name": "stdout",
     "output_type": "stream",
     "text": [
      "\n"
     ]
    }
   ],
   "source": [
    "for line in tqdm(open('lm.txt', 'r')):\n",
    "    pass"
   ]
  },
  {
   "cell_type": "code",
   "execution_count": 107,
   "metadata": {},
   "outputs": [
    {
     "data": {
      "application/vnd.jupyter.widget-view+json": {
       "model_id": "4aad7c284e53417b9022f04a86ad345a",
       "version_major": 2,
       "version_minor": 0
      },
      "text/plain": [
       "HBox(children=(HTML(value=''), FloatProgress(value=1.0, bar_style='info', layout=Layout(width='20px'), max=1.0…"
      ]
     },
     "metadata": {},
     "output_type": "display_data"
    },
    {
     "name": "stdout",
     "output_type": "stream",
     "text": [
      "\n"
     ]
    }
   ],
   "source": [
    "hashes = set()\n",
    "with open('lm_nodup.txt', 'w') as file:\n",
    "    for line in tqdm(open('lm.txt', 'r')):\n",
    "        if hash(line) not in hashes:\n",
    "            hashes.add(hash(line))\n",
    "            file.write(line)"
   ]
  },
  {
   "cell_type": "code",
   "execution_count": 108,
   "metadata": {},
   "outputs": [
    {
     "data": {
      "application/vnd.jupyter.widget-view+json": {
       "model_id": "d5c5bea139af4e7ba8f08d4513f91c76",
       "version_major": 2,
       "version_minor": 0
      },
      "text/plain": [
       "HBox(children=(HTML(value=''), FloatProgress(value=1.0, bar_style='info', layout=Layout(width='20px'), max=1.0…"
      ]
     },
     "metadata": {},
     "output_type": "display_data"
    },
    {
     "name": "stdout",
     "output_type": "stream",
     "text": [
      "\n"
     ]
    }
   ],
   "source": [
    "for line in tqdm(open('lm_nodup.txt', 'r')):\n",
    "    pass"
   ]
  },
  {
   "cell_type": "code",
   "execution_count": 99,
   "metadata": {},
   "outputs": [
    {
     "data": {
      "text/plain": [
       "89978100"
      ]
     },
     "execution_count": 99,
     "metadata": {},
     "output_type": "execute_result"
    }
   ],
   "source": [
    "89_978_100"
   ]
  },
  {
   "cell_type": "code",
   "execution_count": 115,
   "metadata": {},
   "outputs": [
    {
     "name": "stdout",
     "output_type": "stream",
     "text": [
      "Presented by IM Pictures\n",
      "Produced by Shin Cine\n",
      "In association with MVP Venture Capital and Cinema Service\n",
      "My Sassy Girl\n",
      "Exactly two years ago today, she and I buried a time capsule here.\n",
      "We promised to meet here two years later, but she hasn't come yet.\n",
      "I'm going to wait.\n",
      "Here we go.\n",
      "Please, don't move.\n",
      "One, two...\n"
     ]
    }
   ],
   "source": [
    "!head os_clean_1s_nodup.txt"
   ]
  },
  {
   "cell_type": "code",
   "execution_count": 13,
   "metadata": {},
   "outputs": [
    {
     "name": "stdout",
     "output_type": "stream",
     "text": [
      "THE SEA ISN'T AS GREY AND MURKY AS IT LOOKS <FULL_STOP>\n",
      "THE ONLY WAY TO SEE IT IS TO LEARN TO DIVE <FULL_STOP>\n",
      "DIVING IN ENGLAND CAN BE JUST AS INTERESTING AS IN AUSTRALIA <FULL_STOP>\n",
      "IT'S NOT AS WARM <COMMA> THOUGH <EXCLAMATION_MARK>\n",
      "NEAR WEYMOUTH IS THE PURBECK MARINE RESERVE <FULL_STOP>\n",
      "IT HAS AN UNDERWATER NATURE TRAIL <FULL_STOP>\n",
      "SARAH <COMMA> THE WARDEN <COMMA> SHOWED ME AROUND <FULL_STOP>\n",
      "JUST LIKE NATURE TRAILS ON LAND <COMMA> THERE'S A VISITORS' BOOK TO SIGN <FULL_STOP>\n",
      "YOU SWIM ALONG A MARKED TRAIL <FULL_STOP>\n",
      "THERE ARE LOTS OF TYPES OF SEAWEED ALONG THE TRAIL <FULL_STOP>\n"
     ]
    }
   ],
   "source": [
    "!head lm.txt"
   ]
  },
  {
   "cell_type": "code",
   "execution_count": 8,
   "metadata": {},
   "outputs": [],
   "source": [
    "from spacy.tokenizer import Tokenizer\n",
    "from spacy.lang.en import English\n",
    "nlp = English()\n",
    "# Create a blank Tokenizer with just the English vocab\n",
    "tokenizer = English().Defaults.create_tokenizer(nlp)"
   ]
  },
  {
   "cell_type": "code",
   "execution_count": 41,
   "metadata": {},
   "outputs": [
    {
     "name": "stdout",
     "output_type": "stream",
     "text": [
      "Whod [{65: 'Who', 73: 'who', 67: 'who'}, {65: 'd', 67: \"'d\"}]\n",
      "Whodve [{65: 'Who', 73: 'who', 67: 'who'}, {65: 'd', 73: 'would', 67: 'would', 75: 'MD'}, {65: 've', 73: 'have', 67: 'have', 75: 'VB'}]\n",
      "Wholl [{65: 'Who', 73: 'who', 67: 'who'}, {65: 'll', 73: 'will', 67: 'will', 75: 'MD'}]\n",
      "Whollve [{65: 'Who', 73: 'who', 67: 'who'}, {65: 'll', 73: 'will', 67: 'will', 75: 'MD'}, {65: 've', 73: 'have', 67: 'have', 75: 'VB'}]\n",
      "Whos [{65: 'Who', 73: 'who', 67: 'who'}, {65: 's'}]\n",
      "Whove [{65: 'Who', 73: 'who'}, {65: 've', 73: 'have', 67: 'have', 75: 'VB'}]\n",
      "whod [{65: 'who', 73: 'who', 67: 'who'}, {65: 'd', 67: \"'d\"}]\n",
      "whodve [{65: 'who', 73: 'who', 67: 'who'}, {65: 'd', 73: 'would', 67: 'would', 75: 'MD'}, {65: 've', 73: 'have', 67: 'have', 75: 'VB'}]\n",
      "wholl [{65: 'who', 73: 'who', 67: 'who'}, {65: 'll', 73: 'will', 67: 'will', 75: 'MD'}]\n",
      "whollve [{65: 'who', 73: 'who', 67: 'who'}, {65: 'll', 73: 'will', 67: 'will', 75: 'MD'}, {65: 've', 73: 'have', 67: 'have', 75: 'VB'}]\n",
      "whos [{65: 'who', 73: 'who', 67: 'who'}, {65: 's'}]\n",
      "whove [{65: 'who', 73: 'who'}, {65: 've', 73: 'have', 67: 'have', 75: 'VB'}]\n"
     ]
    }
   ],
   "source": [
    "new_rules = {}\n",
    "for key, value in tokenizer.rules.items():\n",
    "    if 'who' in key.lower():\n",
    "        print(key, value)\n",
    "    if \"'\" not in key and '’' not in key:\n",
    "        new_rules[key] = value"
   ]
  },
  {
   "cell_type": "code",
   "execution_count": null,
   "metadata": {},
   "outputs": [],
   "source": []
  },
  {
   "cell_type": "code",
   "execution_count": 37,
   "metadata": {},
   "outputs": [],
   "source": [
    "tokenizer.rules = new_rules"
   ]
  },
  {
   "cell_type": "code",
   "execution_count": 38,
   "metadata": {},
   "outputs": [
    {
     "name": "stdout",
     "output_type": "stream",
     "text": [
      "Please\n",
      "don't\n",
      "move\n"
     ]
    }
   ],
   "source": [
    "for t in tokenizer(\"Please don't move\"):\n",
    "    print(t)"
   ]
  },
  {
   "cell_type": "code",
   "execution_count": 47,
   "metadata": {},
   "outputs": [
    {
     "data": {
      "application/vnd.jupyter.widget-view+json": {
       "model_id": "e4d359743d8845a09de709c725e0bf12",
       "version_major": 2,
       "version_minor": 0
      },
      "text/plain": [
       "HBox(children=(HTML(value=''), FloatProgress(value=0.0, max=80181378.0), HTML(value='')))"
      ]
     },
     "metadata": {},
     "output_type": "display_data"
    },
    {
     "name": "stdout",
     "output_type": "stream",
     "text": [
      "\n"
     ]
    }
   ],
   "source": [
    "token_map = {\n",
    "    ',': '<COMMA>',\n",
    "    '.': '<FULL_STOP>',\n",
    "    '...': '<DOTS>',\n",
    "    '!': '<EXCLAMATION_MARK>',\n",
    "    '?': '<QUESTION_MARK>'\n",
    "}\n",
    "\n",
    "def convert_token(x):\n",
    "    if x.text in [',', '.', '...', '?', '!']:\n",
    "        return token_map[x.text]\n",
    "    return x.text.upper()\n",
    "\n",
    "with open('os.txt', 'w') as file:\n",
    "    for line in tqdm(open('os_clean_1s_nodup.txt', 'r'), total=80181378):\n",
    "        file.write(' '.join([convert_token(x) for x in tokenizer(line)]).replace(\" 'S\", \"'S\"))"
   ]
  },
  {
   "cell_type": "code",
   "execution_count": 49,
   "metadata": {},
   "outputs": [
    {
     "name": "stdout",
     "output_type": "stream",
     "text": [
      "COME ON MAN <COMMA> JUST LEAVE HER ALONE <EXCLAMATION_MARK> \n",
      "HIT HIM <COMMA> HIT HIM AGAIN <COMMA> HEATHER <EXCLAMATION_MARK> \n",
      "RUN HEATHER <COMMA> GET OUTTA HERE <EXCLAMATION_MARK> \n",
      "GRAB SOMETHING HEATHER <FULL_STOP> \n",
      "GET THE HAMMER <COMMA> HIT HIM <EXCLAMATION_MARK> \n",
      "HELP ME <COMMA> PLEASE <COMMA> PLEASE <COMMA> PLEASE HELP <EXCLAMATION_MARK> \n",
      "THE COMMUTER SHIP IS HERE <FULL_STOP> \n",
      "CONTACT CORA AT ONCE <COMMA> TELL HER TO PREPARE TO DEPART <FULL_STOP> \n",
      "SIGNAL GREEN ALERT IMMEDIATELY <FULL_STOP> \n",
      "OH <COMMA> I'VE NEVER BEEN SO GLAD TO SEE ANYBODY IN MY LIFE <FULL_STOP> \n"
     ]
    }
   ],
   "source": [
    "!tail os.txt"
   ]
  },
  {
   "cell_type": "code",
   "execution_count": null,
   "metadata": {},
   "outputs": [],
   "source": []
  }
 ],
 "metadata": {
  "kernelspec": {
   "display_name": "Python 3",
   "language": "python",
   "name": "python3"
  },
  "language_info": {
   "codemirror_mode": {
    "name": "ipython",
    "version": 3
   },
   "file_extension": ".py",
   "mimetype": "text/x-python",
   "name": "python",
   "nbconvert_exporter": "python",
   "pygments_lexer": "ipython3",
   "version": "3.7.8"
  }
 },
 "nbformat": 4,
 "nbformat_minor": 4
}
